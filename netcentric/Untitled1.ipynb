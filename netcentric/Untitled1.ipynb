{
 "cells": [
  {
   "cell_type": "code",
   "execution_count": 3,
   "metadata": {
    "collapsed": true
   },
   "outputs": [],
   "source": [
    "import re\n",
    "import binascii"
   ]
  },
  {
   "cell_type": "code",
   "execution_count": 11,
   "metadata": {},
   "outputs": [
    {
     "data": {
      "text/plain": [
       "'from=Papa+John&email=jalvarado91%40gmail.com&subject=Papa%27s+secret+message&message=Better+Ingredients%2C+better+pizza%2C+papa+john%27s.+'"
      ]
     },
     "execution_count": 11,
     "metadata": {},
     "output_type": "execute_result"
    }
   ],
   "source": [
    "subject = 'from=Papa+John&email=jalvarado91%40gmail.com&subject=Papa%27s+secret+message&message=Better+Ingredients%2C+better+pizza%2C+papa+john%27s.+'\n",
    "# subject = 'from=Papa+John'\n",
    "\n",
    "subject"
   ]
  },
  {
   "cell_type": "code",
   "execution_count": 27,
   "metadata": {},
   "outputs": [
    {
     "data": {
      "text/plain": [
       "{'email': 'jalvarado91@gmail.com',\n",
       " 'from': 'Papa John',\n",
       " 'message': \"Better Ingredients, better pizza, papa john's. \",\n",
       " 'subject': \"Papa's secret message\"}"
      ]
     },
     "execution_count": 27,
     "metadata": {},
     "output_type": "execute_result"
    }
   ],
   "source": [
    "def transpile_ascii(value):\n",
    "    value = value.group()\n",
    "    return binascii.unhexlify(value[1:3])\n",
    "\n",
    "def decode_query(query):\n",
    "    value = re.sub(r'[+]', ' ', query)\n",
    "    value = re.sub(r'%[0-9a-fA-F]{2}', transpile_ascii, value)\n",
    "    return value\n",
    "\n",
    "def make_querystring_dict(qs):\n",
    "    qs = qs.split('&')\n",
    "    qs_params = {}\n",
    "    for pair in qs:\n",
    "        keyval = pair.split('=')\n",
    "        qs_params[keyval[0]] = decode_query(keyval[1])\n",
    "    return qs_params\n",
    "\n",
    "make_querystring_dict(subject)"
   ]
  },
  {
   "cell_type": "code",
   "execution_count": 32,
   "metadata": {},
   "outputs": [
    {
     "data": {
      "text/plain": [
       "'the end'"
      ]
     },
     "execution_count": 32,
     "metadata": {},
     "output_type": "execute_result"
    }
   ],
   "source": [
    "\" the end \".strip()"
   ]
  },
  {
   "cell_type": "code",
   "execution_count": 3,
   "metadata": {},
   "outputs": [
    {
     "name": "stdout",
     "output_type": "stream",
     "text": [
      "0 cookie_flavor\n",
      "1 another_cookie\n",
      "2 one_more\n"
     ]
    }
   ],
   "source": [
    "cookie_store = \"cookie_flavor=oreo\"\n",
    "cookie_store = \"cookie_flavor=oreo; another_cookie=yo_son;\"\n",
    "cookie_store = \"cookie_flavor=oreo; another_cookie=yo_son; one_more=yee\"\n",
    "\n",
    "def deserialize_cookies(cookie_data):\n",
    "    key_pairs = cookie_data.strip().split(';')\n",
    "    key_val_pairs = {}\n",
    "    for pair in key_pairs:\n",
    "        parts = pair.split('=')\n",
    "        if len(parts) == 2:\n",
    "            key_val_pairs[parts[0].strip()] = parts[1].strip()\n",
    "    return key_val_pairs\n",
    "\n",
    "cookies_dict = deserialize_cookies(cookie_store)\n",
    "for key, flavor in enumerate(cookies_dict):\n",
    "    print key, flavor\n"
   ]
  },
  {
   "cell_type": "code",
   "execution_count": null,
   "metadata": {
    "collapsed": true
   },
   "outputs": [],
   "source": []
  },
  {
   "cell_type": "code",
   "execution_count": null,
   "metadata": {
    "collapsed": true
   },
   "outputs": [],
   "source": [
    "\n"
   ]
  }
 ],
 "metadata": {
  "kernelspec": {
   "display_name": "Python 2",
   "language": "python",
   "name": "python2"
  },
  "language_info": {
   "codemirror_mode": {
    "name": "ipython",
    "version": 2
   },
   "file_extension": ".py",
   "mimetype": "text/x-python",
   "name": "python",
   "nbconvert_exporter": "python",
   "pygments_lexer": "ipython2",
   "version": "2.7.13"
  }
 },
 "nbformat": 4,
 "nbformat_minor": 2
}
